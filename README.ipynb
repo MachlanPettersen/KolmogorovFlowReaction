{
 "cells": [
  {
   "cell_type": "markdown",
   "metadata": {},
   "source": [
    "# ME 395 Final Project\n",
    "## Machlan Pettersen\n",
    "### 12/20/2021\n"
   ]
  },
  {
   "cell_type": "markdown",
   "metadata": {},
   "source": [
    "# Flow Physics\n",
    "\n",
    "Using the Kolmogorov flow code setup, the physics of a chaotic chemical reaction were modeled.  \n",
    "\n",
    "The reaction operates with four reagents, denoted as A, B, R, and S.\n",
    "The governing equations that describe the behavior of these reagents over time are as follows:\n",
    "\n",
    "\n",
    "$\\frac{\\partial A} {\\partial t} + u\\nabla A$ = $P^{-1}\\nabla^{2}A - k_{1}AB$\\\n",
    "$\\frac{\\partial B} {\\partial t} + u\\nabla B$ = $P^{-1}\\nabla^{2}B - k_{1}AB - k_{2}BR$\\\n",
    "$\\frac{\\partial R} {\\partial t} + u\\nabla R$ = $P^{-1}\\nabla^{2}R + k_{1}AB - k_{2}BR$\\\n",
    "$\\frac{\\partial S} {\\partial t} + u\\nabla S$ = $P^{-1}\\nabla^{2}S + k_{2}BR$\n",
    "\n",
    "Where:\\\n",
    "$P$ = $1000$\\\n",
    "$k_{1}$ = $10$\\\n",
    "$k_{2}$ = $1$\n",
    "\n"
   ]
  },
  {
   "cell_type": "markdown",
   "metadata": {},
   "source": [
    "# Numerical Setup\n",
    "The flow is periodic in both directions, with Lx and Ly both equal to $2\\pi$. The flow was modeled to run for 1 second, using a dynamic time step size initially set to 0.001 seconds.\n",
    "\n",
    "To test the effect that grid resolution has on the simulation run time, the model was run with Nx and Ny equal to 128, 256, 512, 1024, and 2048 using 16 cores.\n",
    "\n",
    "To test the effect that the number of computing cores has on the simulation run time, the model was run with 2, 4, 8, 16, and 32 cores with Nx and Ny equal to 128.\n",
    "\n",
    "Seeing as both of these parameters are increasing grid resolution on the order of $X^2$, a parabolic curve is to be expected when run time is plotted over the resolution variable.\n"
   ]
  },
  {
   "cell_type": "markdown",
   "metadata": {},
   "source": [
    "# Run Time vs. Grid Sizing @16 Cores\n"
   ]
  },
  {
   "cell_type": "markdown",
   "metadata": {},
   "source": [
    "# Nx = Ny = 128\n",
    "Run time: 27.46 sec\\\n",
    "Run time: 0.122030 cpu-hr\\\n",
    "cpu time/it = 2.680701e-02 sec"
   ]
  },
  {
   "cell_type": "markdown",
   "metadata": {},
   "source": [
    "# Nx = Ny = 256\n",
    "\n",
    "Run time: 53.69 sec\\\n",
    "Run time: 0.238605 cpu-hr\\\n",
    "cpu time/it = 2.283695e-02 sec\n"
   ]
  },
  {
   "cell_type": "markdown",
   "metadata": {},
   "source": [
    "# Nx = Ny = 512\n",
    "Run time: 194.30 sec\\\n",
    "Run time: 0.863558 cpu-hr\\\n",
    "cpu time/it = 3.053840e-02 sec"
   ]
  },
  {
   "cell_type": "markdown",
   "metadata": {},
   "source": [
    "# Nx = Ny = 1024\n",
    "Run time: 882.72 sec\\\n",
    "Run time: 3.923219 cpu-hr\\\n",
    "cpu time/it = 8.787499e-01 sec"
   ]
  },
  {
   "cell_type": "markdown",
   "metadata": {},
   "source": [
    "# Nx = Ny = 2048\n",
    "Run time: 6977.78 sec\\\n",
    "Run time: 31.012356 cpu-hr\\\n",
    "CPU: 4.566015e+00 sec"
   ]
  },
  {
   "cell_type": "code",
   "execution_count": 10,
   "metadata": {},
   "outputs": [
    {
     "data": {
      "image/png": "[encoded data removed]",
      "text/plain": [
       "<Figure size 432x288 with 1 Axes>"
      ]
     },
     "metadata": {
      "needs_background": "light"
     },
     "output_type": "display_data"
    }
   ],
   "source": [
    "import matplotlib.pyplot as plt\n",
    "N = [128,256,512,1024,2048]\n",
    "RTN = [27.46,53.69,194.30,882.72,6977.78]\n",
    "plt.plot(N,RTN)\n",
    "plt.xlabel('Nx, Ny')\n",
    "plt.ylabel('Run Time')\n",
    "\n",
    "plt.show()"
   ]
  },
  {
   "cell_type": "markdown",
   "metadata": {},
   "source": [
    "# CPU Time vs. Number of Cores Used @Nx = Ny = 128\n",
    "# 2 cores:\n",
    "Run time: 60.34 sec\\\n",
    "Run time: 0.033520 cpu-hr\\\n",
    "cpu time/it = 5.922201e-02 sec\n",
    "# 4 cores:\n",
    "Run time: 33.79 sec\\\n",
    "Run time: 0.037539 cpu-hr\\\n",
    "cpu time/it = 3.309840e-02 sec\n",
    "# 8 cores:\n",
    "Run time: 28.52 sec\\\n",
    "Run time: 0.063384 cpu-hr\\\n",
    "cpu time/it = 2.813272e-02 sec\n",
    "# 16 cores:\n",
    "Run time: 27.46 sec\\\n",
    "Run time: 0.122030 cpu-hr\\\n",
    "cpu time/it = 2.680701e-02 sec\n",
    "# 32 cores:\n",
    "Run time: 30.44 sec\\\n",
    "Run time: 0.270609 cpu-hr\\\n",
    "cpu time/it = 2.945592e-02 sec\n",
    "\n"
   ]
  },
  {
   "cell_type": "code",
   "execution_count": 12,
   "metadata": {},
   "outputs": [
    {
     "data": {
      "image/png": "[encoded data removed]",
      "text/plain": [
       "<Figure size 432x288 with 1 Axes>"
      ]
     },
     "metadata": {
      "needs_background": "light"
     },
     "output_type": "display_data"
    }
   ],
   "source": [
    "import matplotlib.pyplot as plt\n",
    "RT = [60.34,33.79,28.52,27.46,30.44]\n",
    "Cores = [2,4,8,16,32]\n",
    "plt.plot(Cores,RT)\n",
    "plt.xlabel('# of Cores')\n",
    "plt.ylabel('Run Time')\n",
    "plt.show()"
   ]
  },
  {
   "cell_type": "markdown",
   "metadata": {},
   "source": [
    "# Conclusion\n",
    "## Run time vs. grid sizing\n",
    "As expected, as grid size resolution increased, so did CPU run time. Because this resolution with scaled for both the X and Y axes, each increase in Nx = Ny constitutes an increase in finite elements on the order of $X{^2}$. With each increase of grid resolution, more processes must be solved by the computer, resulting in longer run times for the simulation. This is reflected in the graph of run time vs. (Nx,Ny), as the curve takes on a parabolic shape representing the afore-mentioned increase in finite elements.\n",
    "\\\n",
    "\\\n",
    "However, each increase in finite elements will improve the resolution of the simulation. This will capture the physics of the problem more effectively, reducing numerical error and providing a more accurate representation of what is happening in the real world. The goal of an engineer when setting grid resolution is to have a high enough Nx to capture all relevant characteristics of the flow, while keeping Nx as low as possible to keep CPU time low. \n",
    "## Run time vs number of cores\n",
    "The results of this study also reflect what was initially expected: the more cores the simulation is run on, the faster the simulation completes **up to a certain point**. The more cores that are being used in parallel, the less iterations need to be calculated by each core, resulting in less CPU time. As with any job, having more \"people\" working on it means it will be completed faster. This is represented in the graph of run time vs. # of cores above, as run time drops significantly as the number of cores is increased.\n",
    "\\\n",
    "\\\n",
    "**However**, the graph also shows a slight uptick as the # of cores is increased from 16 to 32. This is counterintuitive to the logic that has just been asserted. Why does this occur? Well, it turns out that increasing the # of cores actually has diminishing returns. Whenever a core finishes running a process, it has to communicate that data to the root process, which has to distribute that information to all of the other working cores. This communication takes a set amount of time depending on the physics of the simulation, so there is a certain point at which communication time between cores is actually taking longer than the CPU time per iteration. At this point, it will actually reduce CPU time to reduce the number of cores the sim is being run on.\n",
    "\n"
   ]
  },
  {
   "cell_type": "markdown",
   "metadata": {},
   "source": []
  }
 ],
 "metadata": {
  "kernelspec": {
   "display_name": "Python 3 (ipykernel)",
   "language": "python",
   "name": "python3"
  },
  "language_info": {
   "codemirror_mode": {
    "name": "ipython",
    "version": 3
   },
   "file_extension": ".py",
   "mimetype": "text/x-python",
   "name": "python",
   "nbconvert_exporter": "python",
   "pygments_lexer": "ipython3",
   "version": "3.9.7"
  }
 },
 "nbformat": 4,
 "nbformat_minor": 4
}
